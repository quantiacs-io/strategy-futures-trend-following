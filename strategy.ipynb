{
 "cells": [
  {
   "cell_type": "markdown",
   "metadata": {},
   "source": [
    "# Trend based strategy"
   ]
  },
  {
   "cell_type": "code",
   "execution_count": null,
   "metadata": {},
   "outputs": [],
   "source": [
    "# Import basic libraries for manipulating data.\n",
    "\n",
    "# Please refer to xarray.pydata.org for xarray documentation.\n",
    "\n",
    "# xarray works optimally with N-dimensional datasets in Python\n",
    "# and is well suited for financial datasets with labels \"time\",\n",
    "# \"field\" and \"asset\". xarray data structures can also be easily\n",
    "# converted to pandas dataframes.\n",
    "\n",
    "import xarray as xr\n",
    "import xarray.ufuncs as xruf\n",
    "\n",
    "import numpy as np\n",
    "import pandas as pd\n",
    "\n",
    "# Import quantnet libraries.\n",
    "\n",
    "import qnt.data as qndata          # data loading and manipulation\n",
    "import qnt.stats as qnstats        # key statistics\n",
    "import qnt.graph as qngraph        # graphical tools\n",
    "import qnt.forward_looking as qnfl # forward looking checking\n",
    "import qnt.xr_talib as xrtl        # technical analysis indicators (talib)\n",
    "import qnt.output as qnout\n",
    "\n",
    "# display function for fancy displaying:\n",
    "from IPython.display import display\n",
    "# lib for charts\n",
    "import plotly.graph_objs as go"
   ]
  },
  {
   "cell_type": "code",
   "execution_count": null,
   "metadata": {},
   "outputs": [],
   "source": [
    "# Load all available data since given date.\n",
    "\n",
    "# It is possible to set a max_date in the call in order to\n",
    "# develop the system on a limited in-sample period and later\n",
    "# test the system on unseen data after max_date.\n",
    "\n",
    "# A submission will be accepted only if no max_date is set,\n",
    "# as submissions will be evaluated on live data on a daily basis.\n",
    "\n",
    "data = qndata.futures.load_data(tail=10*365, dims=(\"time\", \"field\", \"asset\"))"
   ]
  },
  {
   "cell_type": "markdown",
   "metadata": {},
   "source": [
    "We will use WMA and ROCP from qnt.xr_talib to measure trend."
   ]
  },
  {
   "cell_type": "code",
   "execution_count": null,
   "metadata": {},
   "outputs": [],
   "source": [
    "help(xrtl.WMA)"
   ]
  },
  {
   "cell_type": "code",
   "execution_count": null,
   "metadata": {},
   "outputs": [],
   "source": [
    "help(xrtl.ROCP)"
   ]
  },
  {
   "cell_type": "markdown",
   "metadata": {},
   "source": [
    "Let's implement strategy based on WMA using one asset:"
   ]
  },
  {
   "cell_type": "code",
   "execution_count": null,
   "metadata": {},
   "outputs": [],
   "source": [
    "stock_name = 'GC'\n",
    "\n",
    "# select only 1 stock\n",
    "stock = data.sel(asset=stock_name).dropna('time', 'all')\n",
    "\n",
    "pd_time = stock.time.to_pandas()\n",
    "close = stock.sel(field='close')\n",
    "\n",
    "# chart with prices\n",
    "price_fig = [\n",
    "   go.Candlestick(\n",
    "       x=stock.time.to_pandas(),\n",
    "       open=stock.sel(field='open').values,\n",
    "       high=stock.sel(field='high').values,\n",
    "       low=stock.sel(field='low').values,\n",
    "       close=stock.sel(field='close').values,\n",
    "       name=stock_name\n",
    "   )\n",
    "]\n",
    "\n",
    "# calculate MA \n",
    "ma = xrtl.WMA(close, timeperiod=16) # you can use also SMA, EMA, etc.\n",
    "# calcuate ROC\n",
    "roc = xrtl.ROCP(ma, timeperiod=2)\n",
    "\n",
    "# We suppose, when abs(roc) < sideways_threshold, the trend is sideways. \n",
    "sideways_threshold = 0.01\n",
    "\n",
    "# positive trend direction\n",
    "positive_trend = roc > sideways_threshold \n",
    "# negtive trend direction\n",
    "negative_trend = roc < -sideways_threshold \n",
    "# sideways\n",
    "sideways_trend = abs(roc) <= sideways_threshold\n",
    "\n",
    "# This is a street magic. We will elliminate sideway\n",
    "# We suppose that a sideways trend after a positive trend is also positive\n",
    "side_positive_trend = positive_trend.where(sideways_trend == False).ffill('time').fillna(False)\n",
    "# and a sideways trend after a negative trend is also negative\n",
    "side_negative_trend = negative_trend.where(sideways_trend == False).ffill('time').fillna(False)\n",
    "\n",
    "# charts with trend indicator\n",
    "\n",
    "trend_fig = [\n",
    "    go.Scatter(\n",
    "        x = pd_time,\n",
    "        y = ma,\n",
    "        name='ma',\n",
    "        line = dict(width=1,color='orange')\n",
    "    ),\n",
    "    go.Scatter(\n",
    "        x = pd_time,\n",
    "        y = ma.where(side_positive_trend),\n",
    "        name='side-positive-trend',\n",
    "        line = dict(width=1,color='green')\n",
    "    ),\n",
    "    go.Scatter(\n",
    "        x = pd_time,\n",
    "        y = ma.where(side_negative_trend),\n",
    "        name='side-negative-trend',\n",
    "        line = dict(width=1,color='red')\n",
    "    ),\n",
    "    go.Scatter(\n",
    "        x = pd_time,\n",
    "        y = ma.where(positive_trend),\n",
    "        name='positive-trend',\n",
    "        line = dict(width=3,color='green')\n",
    "    ),\n",
    "    go.Scatter(\n",
    "        x = pd_time,\n",
    "        y = ma.where(negative_trend),\n",
    "        name='negative-trend',\n",
    "        line = dict(width=3,color='red')\n",
    "    ) \n",
    "]\n",
    "\n",
    "\n",
    "# define signals\n",
    "buy_signal = positive_trend\n",
    "buy_stop_signal = side_negative_trend\n",
    "\n",
    "sell_signal = negative_trend\n",
    "sell_stop_signal = side_positive_trend\n",
    "\n",
    "# calc positions \n",
    "position = close.copy(True)\n",
    "position[:] = np.nan\n",
    "position = xr.where(buy_signal, 1, position)\n",
    "position = xr.where(sell_signal, -1, position)\n",
    "position = xr.where(xruf.logical_and(buy_stop_signal, position.ffill('time') > 0), 0, position)\n",
    "position = xr.where(xruf.logical_and(sell_stop_signal, position.ffill('time') < 0), 0, position)\n",
    "\n",
    "position = position.ffill('time').fillna(0)\n",
    "\n",
    "# calc real orders\n",
    "real_buy = xruf.logical_and(position > 0, position.shift(time=1) <= 0)\n",
    "real_sell = xruf.logical_and(position < 0, position.shift(time=1) >= 0)\n",
    "real_stop = xruf.logical_and(position == 0, position.shift(time=1) != 0)\n",
    "\n",
    "# plot orders chart\n",
    "signals_fig=[\n",
    "    go.Scatter(\n",
    "        x=close.loc[real_buy].time.to_pandas(),\n",
    "        y=close.loc[real_buy],\n",
    "        mode=\"markers\",\n",
    "        hovertext='buy',\n",
    "        name=\"buy\",\n",
    "        marker_size=9,\n",
    "        marker_color='green'\n",
    "    ),\n",
    "    go.Scatter(\n",
    "        x=close.loc[real_sell].time.to_pandas(),\n",
    "        y=close.loc[real_sell],\n",
    "        mode=\"markers\",\n",
    "        hovertext='sell',\n",
    "        name=\"sell\",\n",
    "        marker_size=9,\n",
    "        marker_color='red'\n",
    "    ),\n",
    "    go.Scatter(\n",
    "        x=close.loc[real_stop].time.to_pandas(),\n",
    "        y=close.loc[real_stop],\n",
    "        mode=\"markers\",\n",
    "        hovertext='stop',\n",
    "        name=\"stop\",\n",
    "        marker_size=9,\n",
    "        marker_color='gray'\n",
    "    ),\n",
    "]\n",
    "\n",
    "# draw chart\n",
    "fig = go.Figure(data = price_fig + trend_fig + signals_fig)\n",
    "fig.update_yaxes(fixedrange=False) # unlock vertical scrolling\n",
    "fig.show()\n",
    "\n",
    "# calc stats\n",
    "position_with_asset = xr.concat([position], pd.Index([stock_name], name='asset'))\n",
    "stats = qnstats.calc_stat(data, position_with_asset)\n",
    "display(stats.to_pandas().tail())\n",
    "\n",
    "performance = stats.loc[:,\"equity\"]\n",
    "\n",
    "# draw performance chart\n",
    "fig = go.Figure(data = [\n",
    "    go.Scatter(\n",
    "        x=performance.time.to_pandas(),\n",
    "        y=performance,\n",
    "        hovertext='performance',\n",
    "    )\n",
    "])\n",
    "fig.update_yaxes(fixedrange=False) # unlock vertical scrolling\n",
    "fig.show()"
   ]
  },
  {
   "cell_type": "markdown",
   "metadata": {},
   "source": [
    "Now, implement the strategy on multiple assets."
   ]
  },
  {
   "cell_type": "code",
   "execution_count": null,
   "metadata": {},
   "outputs": [],
   "source": [
    "close = data.sel(field='close')\n",
    "\n",
    "# trend\n",
    "ma = xrtl.WMA(close, timeperiod=8)\n",
    "roc = xrtl.ROCP(ma, timeperiod=1)\n",
    "\n",
    "sideways_threshold = 0.01\n",
    "\n",
    "positive_trend = roc > sideways_threshold \n",
    "negative_trend = roc < -sideways_threshold \n",
    "sideways_trend = abs(roc) <= sideways_threshold \n",
    "\n",
    "side_positive_trend = positive_trend.where(sideways_trend == False).ffill('time').fillna(False)\n",
    "side_negative_trend = negative_trend.where(sideways_trend == False).ffill('time').fillna(False)\n",
    "\n",
    "# signals\n",
    "buy_signal = positive_trend\n",
    "buy_stop_signal = side_negative_trend\n",
    "\n",
    "sell_signal = negative_trend\n",
    "sell_stop_signal = side_positive_trend\n",
    "\n",
    "# calc positions \n",
    "position = close.copy(True)\n",
    "position[:] = np.nan\n",
    "\n",
    "# align signals\n",
    "buy_signal = xr.align(buy_signal, position, join='right')[0] \n",
    "buy_stop_signal = xr.align(buy_stop_signal, position, join='right')[0]\n",
    "sell_signal = xr.align(sell_signal, position, join='right')[0]\n",
    "sell_stop_signal = xr.align(sell_stop_signal, position, join='right')[0]\n",
    "\n",
    "# apply signals to position\n",
    "position = xr.where(buy_signal, 1, position)\n",
    "position = xr.where(sell_signal, -1, position)\n",
    "\n",
    "fp = position.ffill('time')\n",
    "position = xr.where(xruf.logical_and(buy_stop_signal, fp > 0), 0, position)\n",
    "position = xr.where(xruf.logical_and(sell_stop_signal, fp < 0), 0, position)\n",
    "\n",
    "position = position.ffill('time').fillna(0)\n",
    "\n",
    "\n",
    "# position normalization\n",
    "output = position/abs(position).sum('asset')\n",
    "\n",
    "\n",
    "#calc and print stats\n",
    "stats = qnstats.calc_stat(data, output)\n",
    "display(output.to_pandas().tail())\n",
    "display(stats.to_pandas().tail())"
   ]
  },
  {
   "cell_type": "markdown",
   "metadata": {},
   "source": [
    "# Improvement #1"
   ]
  },
  {
   "cell_type": "markdown",
   "metadata": {},
   "source": [
    "As you can see, the result is not good. This strategy does not work for all assets all time. \n",
    "Well, let's try to find the top of assets with good \"sharpe_ratio\"."
   ]
  },
  {
   "cell_type": "code",
   "execution_count": null,
   "metadata": {},
   "outputs": [],
   "source": [
    "top_period = 30\n",
    "top_size = 5\n",
    "\n",
    "# normalize output per asset\n",
    "output_per_asset = output/abs(output)\n",
    "\n",
    "# calculate stats per asset\n",
    "stats_per_asset = qnstats.calc_stat(data, output_per_asset, per_asset=True, max_periods=top_period)\n",
    "\n",
    "# calculate ranks of assets by \"sharpe_ratio\"\n",
    "ranks = (-stats_per_asset.sel(field='sharpe_ratio')).rank('asset')\n",
    "# Select top assets by rank which assets have 'top_period' days ago.\n",
    "# We assume, that the \"sharpe_ratio\" of these assets will be good in the next 'top_period' days\n",
    "rank = ranks.isel(time = -top_period)\n",
    "top = rank.where(rank <= top_size).dropna('asset').asset\n",
    "\n",
    "# select top stats\n",
    "top_stats = stats_per_asset.sel(asset = top.values)\n",
    "\n",
    "# print results\n",
    "print(\"SR tail of the top assets:\")\n",
    "display(top_stats.sel(field='sharpe_ratio').to_pandas().tail())\n",
    "\n",
    "print(\"avg SR = \", top_stats[-top_period:].sel(field = 'sharpe_ratio').mean('asset')[-1].item())"
   ]
  },
  {
   "cell_type": "markdown",
   "metadata": {},
   "source": [
    "The results is good. Now, let's optimize entire output, using this idea:"
   ]
  },
  {
   "cell_type": "code",
   "execution_count": null,
   "metadata": {},
   "outputs": [],
   "source": [
    "top_period = 60\n",
    "top_size = 10\n",
    "top_step = 60\n",
    "\n",
    "output_per_asset = output/abs(output)\n",
    "stats_per_asset = qnstats.calc_stat(data, output_per_asset, per_asset=True, max_periods=top_period)\n",
    "ranks = (-stats_per_asset.sel(field='sharpe_ratio')).rank('asset')\n",
    "\n",
    "top_output = output.copy(True)\n",
    "top_output[:] = 0\n",
    "\n",
    "for offset in range(top_period - 1, len(ranks), top_step):\n",
    "    start_date = ranks.time[offset].values\n",
    "    end_date = ranks.time[min(offset + top_step - 1, len(ranks.time) - 1)].values\n",
    "    rank = ranks.loc[start_date]\n",
    "    top = rank.where(rank <= top_size).dropna('asset').asset\n",
    "    top_output.loc[start_date:end_date, top] = output.loc[start_date:end_date, top]\n",
    "    \n",
    "# normalization\n",
    "top_output = top_output / abs(top_output).sum('asset')\n",
    "    \n",
    "#calc stat\n",
    "top_stats = qnstats.calc_stat(data, top_output)\n",
    "\n",
    "# display stat\n",
    "display(top_stats.to_pandas().tail())\n",
    "\n",
    "\n",
    "# draw performance chart\n",
    "performance = top_stats.loc[:,\"equity\"]\n",
    "fig = go.Figure(data = [\n",
    "    go.Scatter(\n",
    "        x=performance.time.to_pandas(),\n",
    "        y=performance,\n",
    "        hovertext='performance',\n",
    "    )\n",
    "])\n",
    "fig.update_yaxes(fixedrange=False) # unlock vertical scrolling\n",
    "fig.show()"
   ]
  },
  {
   "cell_type": "markdown",
   "metadata": {},
   "source": [
    "## Statistics"
   ]
  },
  {
   "cell_type": "code",
   "execution_count": null,
   "metadata": {},
   "outputs": [],
   "source": [
    "# Calculate statistics on a rolling basis.\n",
    "\n",
    "# Transactions are punished with slippage equal to a given\n",
    "# fraction of ATR14 (read more about slippage in our full\n",
    "# Strategy Buy and Hold template). We evaluate submissions\n",
    "# using 5% of ATR14 for slippage.\n",
    "\n",
    "# Mean return, volatility and Sharpe ratio are computed on a\n",
    "# rolling basis using a lookback period of 7 years.\n",
    "\n",
    "stat = qnstats.calc_stat(data, top_output)\n",
    "\n",
    "display(stat.to_pandas().tail())"
   ]
  },
  {
   "cell_type": "code",
   "execution_count": null,
   "metadata": {},
   "outputs": [],
   "source": [
    "def print_stat(stat):\n",
    "    \"\"\"Prints selected statistical key indicators:\n",
    "       - the global Sharpe ratio of the strategy;\n",
    "       - the global mean profit;\n",
    "       - the global volatility;\n",
    "       - the maximum drawdown.\n",
    "\n",
    "       Note that Sharpe ratio, mean profit and volatility\n",
    "       apply to  max simulation period, and not to the\n",
    "       rolling basis of 3 years.\n",
    "    \"\"\"\n",
    "\n",
    "    days = len(stat.coords[\"time\"])\n",
    "    \n",
    "    returns = stat.loc[:, \"relative_return\"]\n",
    "\n",
    "    equity = stat.loc[:, \"equity\"]\n",
    "    \n",
    "    sharpe_ratio = qnstats.calc_sharpe_ratio_annualized(\n",
    "        returns,\n",
    "        max_periods=days,\n",
    "        min_periods=days).to_pandas().values[-1]\n",
    "\n",
    "    profit = (qnstats.calc_mean_return_annualized(\n",
    "        returns,\n",
    "        max_periods=days,\n",
    "        min_periods=days).to_pandas().values[-1])*100.0\n",
    "\n",
    "    volatility = (qnstats.calc_volatility_annualized(\n",
    "        returns,\n",
    "        max_periods=days,\n",
    "        min_periods=days).to_pandas().values[-1])*100.0\n",
    "\n",
    "    max_ddown = (qnstats.calc_max_drawdown(\n",
    "        qnstats.calc_underwater(equity)).to_pandas().values[-1])*100.0\n",
    "\n",
    "    print(\"Sharpe Ratio         : \", \"{0:.3f}\".format(sharpe_ratio))\n",
    "    print(\"Mean Return [%]      : \", \"{0:.3f}\".format(profit))\n",
    "    print(\"Volatility [%]       : \", \"{0:.3f}\".format(volatility))\n",
    "    print(\"Maximum Drawdown [%] : \", \"{0:.3f}\".format(-max_ddown))\n",
    "\n",
    "print_stat(stat)"
   ]
  },
  {
   "cell_type": "code",
   "execution_count": null,
   "metadata": {},
   "outputs": [],
   "source": [
    "# show plot with profit and losses:\n",
    "performance = stat.to_pandas()[\"equity\"]\n",
    "qngraph.make_plot_filled(performance.index, performance, name=\"PnL (Equity)\", type=\"log\")"
   ]
  },
  {
   "cell_type": "code",
   "execution_count": null,
   "metadata": {},
   "outputs": [],
   "source": [
    "# show underwater chart:\n",
    "UWchart = stat.to_pandas()[\"underwater\"].iloc[(252*3):]\n",
    "qngraph.make_plot_filled(UWchart.index, UWchart, color=\"darkred\", name=\"Underwater Chart\", range_max=0)"
   ]
  },
  {
   "cell_type": "code",
   "execution_count": null,
   "metadata": {
    "scrolled": true
   },
   "outputs": [],
   "source": [
    "# show bias chart:\n",
    "biaschart = stat.to_pandas()[\"bias\"]\n",
    "qngraph.make_plot_filled(biaschart.index, biaschart, color=\"#5A6351\", name=\"Bias Chart\")"
   ]
  },
  {
   "cell_type": "code",
   "execution_count": null,
   "metadata": {},
   "outputs": [],
   "source": [
    "# show rolling Sharpe ratio on a 7-year basis:\n",
    "SRchart = stat.to_pandas()[\"sharpe_ratio\"]\n",
    "qngraph.make_plot_filled(SRchart.index, SRchart, color=\"#F442C5\", name=\"Rolling SR\")"
   ]
  },
  {
   "cell_type": "markdown",
   "metadata": {},
   "source": [
    "## Checks"
   ]
  },
  {
   "cell_type": "code",
   "execution_count": null,
   "metadata": {},
   "outputs": [],
   "source": [
    "# check your output\n",
    "qnout.check(output, data)"
   ]
  },
  {
   "cell_type": "markdown",
   "metadata": {},
   "source": [
    "# Write output"
   ]
  },
  {
   "cell_type": "code",
   "execution_count": null,
   "metadata": {},
   "outputs": [],
   "source": [
    "# Finally, we write the last mandatory step for submission,\n",
    "# namely writing output to file:\n",
    "\n",
    "qnout.write(output)"
   ]
  },
  {
   "cell_type": "markdown",
   "metadata": {},
   "source": [
    "At this stage code is ready for submission. Just click on the submission button in your account page and we will evaluate your strategy live on our servers!"
   ]
  }
 ],
 "metadata": {
  "kernelspec": {
   "display_name": "Python 3",
   "language": "python",
   "name": "python3"
  },
  "language_info": {
   "codemirror_mode": {
    "name": "ipython",
    "version": 3
   },
   "file_extension": ".py",
   "mimetype": "text/x-python",
   "name": "python",
   "nbconvert_exporter": "python",
   "pygments_lexer": "ipython3",
   "version": "3.7.9"
  }
 },
 "nbformat": 4,
 "nbformat_minor": 2
}
