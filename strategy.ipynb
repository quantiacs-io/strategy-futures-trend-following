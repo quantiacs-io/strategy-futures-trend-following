{
 "cells": [
  {
   "cell_type": "markdown",
   "metadata": {},
   "source": [
    "# Futures trend following"
   ]
  },
  {
   "cell_type": "code",
   "execution_count": null,
   "metadata": {},
   "outputs": [],
   "source": [
    "# Import libraries\n",
    "import xarray as xr\n",
    "import xarray.ufuncs as xruf\n",
    "import numpy as np\n",
    "import pandas as pd\n",
    "\n",
    "import qnt.output as qnout\n",
    "import qnt.ta as qnta\n",
    "import qnt.data    as qndata\n",
    "import qnt.stepper as qnstepper\n",
    "import qnt.stats   as qnstats\n",
    "import qnt.graph   as qngraph\n",
    "import datetime    as dt\n",
    "import plotly.graph_objs as go\n",
    "import xarray.ufuncs as xruf\n",
    "import time"
   ]
  },
  {
   "cell_type": "markdown",
   "metadata": {},
   "source": [
    "#### Load futures data\n",
    "Quantnet provides data for 39 global derivatives. \n",
    "The underlying assets are currencies, cross-rates, indices, bonds, energy and metals from the world's futures exchanges.\n",
    "\n",
    "Suppose we want to download the data for the last 4 years. One can use the following function:"
   ]
  },
  {
   "cell_type": "code",
   "execution_count": null,
   "metadata": {
    "scrolled": true
   },
   "outputs": [],
   "source": [
    "fut_data = qndata.futures.load_data(tail = dt.timedelta(days = 10*365),\n",
    "                        dims = (\"time\", \"field\", \"asset\"),\n",
    "                        forward_order = True)\n",
    "# The complete list\n",
    "fut_data.asset"
   ]
  },
  {
   "cell_type": "code",
   "execution_count": null,
   "metadata": {
    "scrolled": false
   },
   "outputs": [],
   "source": [
    "# we can see historical data on a chart\n",
    "trend_fig = [\n",
    "    go.Scatter(\n",
    "        x = fut_data.sel(asset = '6B').sel(field = 'close').to_pandas().index,\n",
    "        y = fut_data.sel(asset = '6B').sel(field = 'close'),\n",
    "        line = dict(width=1,color='black'))]\n",
    "\n",
    "# draw chart\n",
    "fig = go.Figure(data = trend_fig)\n",
    "fig.update_yaxes(fixedrange=False) # unlock vertical scrolling\n",
    "fig.show()"
   ]
  },
  {
   "cell_type": "markdown",
   "metadata": {},
   "source": [
    "## Weights allocation"
   ]
  },
  {
   "cell_type": "markdown",
   "metadata": {},
   "source": [
    "This function calculates positions using wma and roc as trend indicators."
   ]
  },
  {
   "cell_type": "code",
   "execution_count": null,
   "metadata": {},
   "outputs": [],
   "source": [
    "def calc_positions(futures, ma_periods, roc_periods, sideways_threshold):\n",
    "    \"\"\" Calculates positions for given data(futures) and parameters \"\"\"\n",
    "    close = futures.sel(field='close')\n",
    "    \n",
    "    # calculate MA \n",
    "    ma = qnta.lwma(close, ma_periods)\n",
    "    # calcuate ROC\n",
    "    roc = qnta.roc(ma, roc_periods)\n",
    "\n",
    "    # positive trend direction\n",
    "    positive_trend = roc > sideways_threshold\n",
    "    # negtive trend direction\n",
    "    negative_trend = roc < -sideways_threshold \n",
    "    # sideways\n",
    "    sideways_trend = abs(roc) <= sideways_threshold\n",
    "    \n",
    "    # We suppose that a sideways trend after a positive trend is also positive\n",
    "    side_positive_trend = positive_trend.where(sideways_trend == False).ffill('time').fillna(False)\n",
    "    # and a sideways trend after a negative trend is also negative\n",
    "    side_negative_trend = negative_trend.where(sideways_trend == False).ffill('time').fillna(False)\n",
    "\n",
    "    # define signals\n",
    "    buy_signal = positive_trend\n",
    "    buy_stop_signal = side_negative_trend\n",
    "\n",
    "    sell_signal = negative_trend\n",
    "    sell_stop_signal = side_positive_trend\n",
    "\n",
    "    # calc positions \n",
    "    position = close.copy(True)\n",
    "    position[:] = np.nan\n",
    "    position = xr.where(buy_signal, 1, position)\n",
    "    position = xr.where(sell_signal, -1, position)\n",
    "    position = xr.where(xruf.logical_and(buy_stop_signal, position.ffill('time') > 0), 0, position)\n",
    "    position = xr.where(xruf.logical_and(sell_stop_signal, position.ffill('time') < 0), 0, position)\n",
    "    position = position.ffill('time').fillna(0)\n",
    "\n",
    "    return position"
   ]
  },
  {
   "cell_type": "markdown",
   "metadata": {},
   "source": [
    "This function calculate positions for multiple instruments with different parameters."
   ]
  },
  {
   "cell_type": "code",
   "execution_count": null,
   "metadata": {},
   "outputs": [],
   "source": [
    "def calc_output_all(data, params):\n",
    "    positions = data.sel(field='close').copy(True)\n",
    "    positions[:] = np.nan\n",
    "    for futures_name in params.keys(): \n",
    "        p = params[futures_name]\n",
    "        futures_data = data.sel(asset=futures_name).dropna('time','any')\n",
    "        p = calc_positions(futures_data, p['ma_periods'], p['roc_periods'], p['sideways_threshold'])\n",
    "        positions.loc[{'asset':futures_name, 'time':p.time}] = p\n",
    "    \n",
    "    return positions"
   ]
  },
  {
   "cell_type": "code",
   "execution_count": null,
   "metadata": {
    "scrolled": false
   },
   "outputs": [],
   "source": [
    "# say we select futures and their parameters for technical algorithm\n",
    "params = {'F2MX': {'ma_periods': 10, 'roc_periods': 26, 'sideways_threshold': 5.0},\n",
    " 'FGBX': {'ma_periods': 138, 'roc_periods': 49, 'sideways_threshold': 2.0},\n",
    " 'N1U': {'ma_periods': 138, 'roc_periods': 25, 'sideways_threshold': 1.25}}\n",
    "\n",
    "futures_list = list(params.keys())\n",
    "\n",
    "#form the output\n",
    "output = calc_output_all(fut_data.sel(asset = futures_list), params)"
   ]
  },
  {
   "cell_type": "markdown",
   "metadata": {},
   "source": [
    "## Statistics"
   ]
  },
  {
   "cell_type": "code",
   "execution_count": null,
   "metadata": {},
   "outputs": [],
   "source": [
    "def print_stat(stat):\n",
    "    \"\"\"Prints selected statistical key indicators:\n",
    "       - the global Sharpe ratio of the strategy;\n",
    "       - the global mean profit;\n",
    "       - the global volatility;\n",
    "       - the maximum drawdown.\n",
    "\n",
    "       Note that Sharpe ratio, mean profit and volatility\n",
    "       apply to  max simulation period, and not to the\n",
    "       rolling basis of 3 years.\n",
    "    \"\"\"\n",
    "\n",
    "    days = len(stat.coords[\"time\"])\n",
    "    \n",
    "    returns = stat.loc[:, \"relative_return\"]\n",
    "\n",
    "    equity = stat.loc[:, \"equity\"]\n",
    "    \n",
    "    sharpe_ratio = qnstats.calc_sharpe_ratio_annualized(\n",
    "        returns,\n",
    "        max_periods=days,\n",
    "        min_periods=days).to_pandas().values[-1]\n",
    "\n",
    "    profit = (qnstats.calc_mean_return_annualized(\n",
    "        returns,\n",
    "        max_periods=days,\n",
    "        min_periods=days).to_pandas().values[-1])*100.0\n",
    "\n",
    "    volatility = (qnstats.calc_volatility_annualized(\n",
    "        returns,\n",
    "        max_periods=days,\n",
    "        min_periods=days).to_pandas().values[-1])*100.0\n",
    "\n",
    "    max_ddown = (qnstats.calc_max_drawdown(\n",
    "        qnstats.calc_underwater(equity)).to_pandas().values[-1])*100.0\n",
    "\n",
    "    print(\"Sharpe Ratio         : \", \"{0:.3f}\".format(sharpe_ratio))\n",
    "    print(\"Mean Return [%]      : \", \"{0:.3f}\".format(profit))\n",
    "    print(\"Volatility [%]       : \", \"{0:.3f}\".format(volatility))\n",
    "    print(\"Maximum Drawdown [%] : \", \"{0:.3f}\".format(-max_ddown))"
   ]
  },
  {
   "cell_type": "code",
   "execution_count": null,
   "metadata": {
    "scrolled": true
   },
   "outputs": [],
   "source": [
    "stat = qnstats.calc_stat(fut_data, output, slippage_factor=0.05)\n",
    "print_stat(stat)"
   ]
  },
  {
   "cell_type": "code",
   "execution_count": null,
   "metadata": {},
   "outputs": [],
   "source": [
    "# show plot with profit and losses:\n",
    "performance = stat.to_pandas()[\"equity\"]\n",
    "qngraph.make_plot_filled(performance.index, performance, name=\"PnL (Equity)\", type=\"log\")"
   ]
  },
  {
   "cell_type": "markdown",
   "metadata": {},
   "source": [
    "# Check result"
   ]
  },
  {
   "cell_type": "code",
   "execution_count": null,
   "metadata": {},
   "outputs": [],
   "source": [
    "qnout.check(output, fut_data)"
   ]
  },
  {
   "cell_type": "markdown",
   "metadata": {},
   "source": [
    "# Write output"
   ]
  },
  {
   "cell_type": "code",
   "execution_count": null,
   "metadata": {},
   "outputs": [],
   "source": [
    "qnout.write(output)"
   ]
  }
 ],
 "metadata": {
  "kernelspec": {
   "display_name": "Python 3",
   "language": "python",
   "name": "python3"
  },
  "language_info": {
   "codemirror_mode": {
    "name": "ipython",
    "version": 3
   },
   "file_extension": ".py",
   "mimetype": "text/x-python",
   "name": "python",
   "nbconvert_exporter": "python",
   "pygments_lexer": "ipython3",
   "version": "3.7.6"
  }
 },
 "nbformat": 4,
 "nbformat_minor": 4
}
